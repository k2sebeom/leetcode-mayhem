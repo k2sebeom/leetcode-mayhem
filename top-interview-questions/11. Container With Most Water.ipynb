{
 "cells": [
  {
   "cell_type": "markdown",
   "id": "undefined-serbia",
   "metadata": {},
   "source": [
    "# Container With Most Water"
   ]
  },
  {
   "cell_type": "markdown",
   "id": "photographic-establishment",
   "metadata": {},
   "source": [
    "You are given an integer array height of length n. There are n vertical lines drawn such that the two endpoints of the ith line are (i, 0) and (i, height[i]).\n",
    "\n",
    "Find two lines that together with the x-axis form a container, such that the container contains the most water.\n",
    "\n",
    "Return the maximum amount of water a container can store.\n",
    "\n",
    "Notice that you may not slant the container."
   ]
  },
  {
   "cell_type": "code",
   "execution_count": 1,
   "id": "precise-imaging",
   "metadata": {},
   "outputs": [],
   "source": [
    "def maxArea(self, height: List[int]) -> int:\n",
    "    # Greedy Algorithm L, R pointer\n",
    "    \"\"\"\n",
    "    L               R\n",
    "    \"\"\"\n",
    "    n = len(height)\n",
    "    left_end = 0\n",
    "    right_end = n - 1\n",
    "    max_water = (n - 1) * min(height[left_end], height[right_end])\n",
    "\n",
    "    while left_end != right_end:\n",
    "        water = (right_end - left_end) * min(height[left_end], height[right_end])\n",
    "        if water > max_water:\n",
    "            max_water = water\n",
    "\n",
    "        if height[left_end] > height[right_end]:\n",
    "            right_end -= 1\n",
    "        else:\n",
    "            left_end += 1\n",
    "    return max_water"
   ]
  },
  {
   "cell_type": "markdown",
   "id": "fluid-nudist",
   "metadata": {},
   "source": [
    "O(n)"
   ]
  },
  {
   "cell_type": "markdown",
   "id": "another-delay",
   "metadata": {},
   "source": [
    "## Moral of the Story\n",
    "\n",
    "1. Greedy Algorithm only works when as follows."
   ]
  }
 ],
 "metadata": {
  "kernelspec": {
   "display_name": "Python 3",
   "language": "python",
   "name": "python3"
  },
  "language_info": {
   "codemirror_mode": {
    "name": "ipython",
    "version": 3
   },
   "file_extension": ".py",
   "mimetype": "text/x-python",
   "name": "python",
   "nbconvert_exporter": "python",
   "pygments_lexer": "ipython3",
   "version": "3.6.7"
  }
 },
 "nbformat": 4,
 "nbformat_minor": 5
}
