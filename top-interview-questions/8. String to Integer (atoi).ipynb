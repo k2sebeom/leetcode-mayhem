{
 "cells": [
  {
   "cell_type": "markdown",
   "id": "undefined-serbia",
   "metadata": {},
   "source": [
    "# String to Integer (atoi)"
   ]
  },
  {
   "cell_type": "markdown",
   "id": "photographic-establishment",
   "metadata": {},
   "source": [
    "Implement the myAtoi(string s) function, which converts a string to a 32-bit signed integer (similar to C/C++'s atoi function).\n",
    "\n",
    "The algorithm for myAtoi(string s) is as follows:\n",
    "\n",
    "Read in and ignore any leading whitespace.\n",
    "Check if the next character (if not already at the end of the string) is '-' or '+'. Read this character in if it is either. This determines if the final result is negative or positive respectively. Assume the result is positive if neither is present.\n",
    "Read in next the characters until the next non-digit character or the end of the input is reached. The rest of the string is ignored.\n",
    "Convert these digits into an integer (i.e. \"123\" -> 123, \"0032\" -> 32). If no digits were read, then the integer is 0. Change the sign as necessary (from step 2).\n",
    "If the integer is out of the 32-bit signed integer range [-231, 231 - 1], then clamp the integer so that it remains in the range. Specifically, integers less than -231 should be clamped to -231, and integers greater than 231 - 1 should be clamped to 231 - 1.\n",
    "Return the integer as the final result."
   ]
  },
  {
   "cell_type": "code",
   "execution_count": 1,
   "id": "precise-imaging",
   "metadata": {},
   "outputs": [],
   "source": [
    "def myAtoi(self, s: str) -> int:\n",
    "    NUMS = dict()\n",
    "    for i in range(10):\n",
    "        NUMS[str(i)] = i\n",
    "    s = s.lstrip() # Step 1: Clean leading whitespace\n",
    "\n",
    "    if not s:\n",
    "        return 0\n",
    "\n",
    "    # Step 2: Check sign of the integer\n",
    "    is_negative = False\n",
    "    if s[0] == '-':\n",
    "        is_negative = True\n",
    "        s = s[1:]\n",
    "    elif s[0] == '+':\n",
    "        s = s[1:]\n",
    "\n",
    "    if not s:\n",
    "        return 0\n",
    "\n",
    "    if s[0] not in NUMS:\n",
    "        return 0\n",
    "\n",
    "    result = 0\n",
    "\n",
    "    for c in s:\n",
    "        if c in NUMS:\n",
    "            result = result * 10 + NUMS[c]\n",
    "        else:\n",
    "            break\n",
    "\n",
    "    result = -result if is_negative else result\n",
    "    if result > 2**31 - 1:\n",
    "        return 2**31 - 1\n",
    "    elif result < -2**31:\n",
    "        return -2**31\n",
    "\n",
    "    return result"
   ]
  },
  {
   "cell_type": "markdown",
   "id": "fluid-nudist",
   "metadata": {},
   "source": [
    "T = O(n)"
   ]
  },
  {
   "cell_type": "markdown",
   "id": "another-delay",
   "metadata": {},
   "source": [
    "## Moral of the Story\n",
    "\n",
    "1. "
   ]
  }
 ],
 "metadata": {
  "kernelspec": {
   "display_name": "Python 3",
   "language": "python",
   "name": "python3"
  },
  "language_info": {
   "codemirror_mode": {
    "name": "ipython",
    "version": 3
   },
   "file_extension": ".py",
   "mimetype": "text/x-python",
   "name": "python",
   "nbconvert_exporter": "python",
   "pygments_lexer": "ipython3",
   "version": "3.6.7"
  }
 },
 "nbformat": 4,
 "nbformat_minor": 5
}
