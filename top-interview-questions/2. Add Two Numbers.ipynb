{
 "cells": [
  {
   "cell_type": "markdown",
   "id": "undefined-serbia",
   "metadata": {},
   "source": [
    "# Add Two Numbers"
   ]
  },
  {
   "cell_type": "markdown",
   "id": "photographic-establishment",
   "metadata": {},
   "source": [
    "You are given two non-empty linked lists representing two non-negative integers. The digits are stored in reverse order, and each of their nodes contains a single digit. Add the two numbers and return the sum as a linked list.\n",
    "\n",
    "You may assume the two numbers do not contain any leading zero, except the number 0 itself."
   ]
  },
  {
   "cell_type": "code",
   "execution_count": 1,
   "id": "precise-imaging",
   "metadata": {},
   "outputs": [],
   "source": [
    "from typing import Optional\n",
    "\n",
    "# Definition for singly-linked list.\n",
    "class ListNode:\n",
    "    def __init__(self, val=0, next=None):\n",
    "        self.val = val\n",
    "        self.next = next\n",
    "\n",
    "def addTwoNumbers(self, l1: Optional[ListNode], l2: Optional[ListNode]) -> Optional[ListNode]:\n",
    "    carry = 0\n",
    "    node = ListNode(0)\n",
    "    head = node\n",
    "    # While at least one of the lists has not ended\n",
    "    while l1 is not None or l2 is not None:\n",
    "        # if both not ended -> do calculation and leave carry\n",
    "        if l1 is not None and l2 is not None:\n",
    "            val = l1.val + l2.val + carry\n",
    "            carry = val // 10\n",
    "            head.next = ListNode(val % 10)\n",
    "\n",
    "            head = head.next\n",
    "            l1 = l1.next\n",
    "            l2 = l2.next\n",
    "        # if one ended -> add carry and do calculation\n",
    "        elif l1 is None:\n",
    "            val = l2.val + carry\n",
    "            carry = val // 10\n",
    "            head.next = ListNode(val % 10)\n",
    "\n",
    "            head = head.next\n",
    "            l2 = l2.next\n",
    "        elif l2 is None:\n",
    "            val = l1.val + carry\n",
    "            carry = val // 10\n",
    "            head.next = ListNode(val % 10)\n",
    "\n",
    "            head = head.next\n",
    "            l1 = l1.next\n",
    "    if carry > 0:\n",
    "        head.next = ListNode(carry)\n",
    "    return node.next\n"
   ]
  },
  {
   "cell_type": "markdown",
   "id": "fluid-nudist",
   "metadata": {},
   "source": [
    "O(n)"
   ]
  },
  {
   "cell_type": "markdown",
   "id": "another-delay",
   "metadata": {},
   "source": [
    "## Moral of the Story\n",
    "\n",
    "1. When iterating linked list check \"node is None\""
   ]
  }
 ],
 "metadata": {
  "kernelspec": {
   "display_name": "Python 3",
   "language": "python",
   "name": "python3"
  },
  "language_info": {
   "codemirror_mode": {
    "name": "ipython",
    "version": 3
   },
   "file_extension": ".py",
   "mimetype": "text/x-python",
   "name": "python",
   "nbconvert_exporter": "python",
   "pygments_lexer": "ipython3",
   "version": "3.6.7"
  }
 },
 "nbformat": 4,
 "nbformat_minor": 5
}
