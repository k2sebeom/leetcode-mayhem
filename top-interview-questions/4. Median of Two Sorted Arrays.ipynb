{
 "cells": [
  {
   "cell_type": "markdown",
   "id": "undefined-serbia",
   "metadata": {},
   "source": [
    "# Median of Two Sorted Arrays"
   ]
  },
  {
   "cell_type": "markdown",
   "id": "photographic-establishment",
   "metadata": {},
   "source": [
    "Given two sorted arrays nums1 and nums2 of size m and n respectively, return the median of the two sorted arrays.\n",
    "\n",
    "The overall run time complexity should be O(log (m+n))."
   ]
  },
  {
   "cell_type": "code",
   "execution_count": 1,
   "id": "precise-imaging",
   "metadata": {},
   "outputs": [],
   "source": [
    "class Solution:\n",
    "    def is_good_partition(self, L1, R1, L2, R2):\n",
    "        if not L1 or not R2: # if L1 is empty\n",
    "            return R1[0] >= L2[-1]\n",
    "        if not R1 or not L2:\n",
    "            return R2[0] >= L1[-1]\n",
    "        \n",
    "        return R1[0] >= L2[-1] and R2[0] >= L1[-1]\n",
    "            \n",
    "    \n",
    "    def findMedianSortedArrays(self, nums1: List[int], nums2: List[int]) -> float:\n",
    "        \"\"\"\n",
    "        Suppose we have\n",
    "        A : [1 3 6 10 12] B: [2 4 8 9] => 9 elements\n",
    "        \n",
    "        when merged\n",
    "        [1 2 3 4    6    8 9 10 12] => 4 elements on left & right\n",
    "        \n",
    "        on left side [1 3] from A and [2 4] from B\n",
    "        A => [1 3]   [6 10 12]  /  B => [2 4]  [8 9]\n",
    "        where every element in [1 3] < [8 9] and [2 4] < [6 10 12]\n",
    "        \n",
    "        example of wrong partition\n",
    "        A [1 3 6] [10 12] / B [2] [4 8 9]\n",
    "        A-L contains 6 which is bigger than 4\n",
    "        \n",
    "        binary search for i, j which determines the \"corect\" partition.\n",
    "        j is dependent on i, so one\n",
    "        \n",
    "        \n",
    "        [1] [3 6 10 12]   vs. [2 4.8] [9]\n",
    "        \"\"\"\n",
    "        if not nums1 or not nums2:\n",
    "            nums = nums1 + nums2\n",
    "            c = len(nums)\n",
    "            if c % 2 == 0:\n",
    "                return (nums[c//2] + nums[c//2 - 1]) / 2\n",
    "            else:\n",
    "                return nums[c //2]\n",
    "        \n",
    "        total_len = len(nums1) + len(nums2)\n",
    "        half_len = total_len // 2\n",
    "\n",
    "        i = len(nums1) // 2\n",
    "        j = half_len - i\n",
    "        # while the partition is not good\n",
    "        while not self.is_good_partition(nums1[:i], nums1[i:], nums2[:j], nums2[j:]):\n",
    "            # do a binary search\n",
    "            if nums1[i - 1] > nums2[j]:\n",
    "                i = i // 2\n",
    "            else:\n",
    "                i = (len(nums1) + i + 1) // 2\n",
    "            j = half_len - i\n",
    "\n",
    "        left = nums1[:i] + nums2[:j]\n",
    "        right = nums1[i:] + nums2[j:]\n",
    "\n",
    "        if total_len % 2 == 0: # if length is even\n",
    "            left_end = max(left)\n",
    "            right_end = min(right)\n",
    "            return (left_end + right_end) / 2.0\n",
    "        else: # if odd\n",
    "            return min(nums1[i], nums2[j])"
   ]
  },
  {
   "cell_type": "markdown",
   "id": "fluid-nudist",
   "metadata": {},
   "source": [
    "O(log(m + n)) This does not pass the test"
   ]
  },
  {
   "cell_type": "markdown",
   "id": "another-delay",
   "metadata": {},
   "source": [
    "## Moral of the Story\n",
    "\n",
    "1. Binary search is O(log(n))"
   ]
  }
 ],
 "metadata": {
  "kernelspec": {
   "display_name": "Python 3",
   "language": "python",
   "name": "python3"
  },
  "language_info": {
   "codemirror_mode": {
    "name": "ipython",
    "version": 3
   },
   "file_extension": ".py",
   "mimetype": "text/x-python",
   "name": "python",
   "nbconvert_exporter": "python",
   "pygments_lexer": "ipython3",
   "version": "3.6.7"
  }
 },
 "nbformat": 4,
 "nbformat_minor": 5
}
