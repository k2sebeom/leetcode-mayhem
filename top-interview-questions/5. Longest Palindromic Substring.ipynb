{
 "cells": [
  {
   "cell_type": "markdown",
   "id": "undefined-serbia",
   "metadata": {},
   "source": [
    "# Longest Palindromic Substring"
   ]
  },
  {
   "cell_type": "markdown",
   "id": "photographic-establishment",
   "metadata": {},
   "source": [
    "Given a string s, return the longest palindromic substring in s."
   ]
  },
  {
   "cell_type": "code",
   "execution_count": 1,
   "id": "precise-imaging",
   "metadata": {},
   "outputs": [],
   "source": [
    "def longestPalindrome(self, s: str) -> str:\n",
    "    \"\"\"\n",
    "    babad\n",
    "\n",
    "        0 1 2 3 4\n",
    "    0   o o   \n",
    "    1     o o \n",
    "    2       o o\n",
    "    3         o o\n",
    "    4           o\n",
    "\n",
    "    \"\"\"\n",
    "    longest = \"\"\n",
    "    table = [[False] * len(s) for _ in range(len(s))] \n",
    "    for i in range(len(s)):\n",
    "        for j in range(0, i + 1):\n",
    "            # print(j, i, s[j: i + 1])\n",
    "            if i == j:\n",
    "                table[j][i] = True\n",
    "            elif j + 1 == i:\n",
    "                table[j][i] = s[i] == s[j]\n",
    "            else:\n",
    "                table[j][i] = table[j + 1][i - 1] and s[i] == s[j]\n",
    "            if table[j][i] and i - j + 1 > len(longest):\n",
    "                longest = s[j:i+1]\n",
    "    return longest"
   ]
  },
  {
   "cell_type": "markdown",
   "id": "fluid-nudist",
   "metadata": {},
   "source": [
    "T = O(n^2) S = O(n^2). Dynamic Programming"
   ]
  },
  {
   "cell_type": "code",
   "execution_count": null,
   "id": "hungry-birthday",
   "metadata": {},
   "outputs": [],
   "source": [
    "def longestPalindrome(self, s: str) -> str:\n",
    "    def get_palindrome(s,l,r):\n",
    "        while l>=0 and r<len(s) and s[l]==s[r]: \n",
    "            l-=1 ; r+=1\n",
    "        return s[l+1:r]\n",
    "\n",
    "    ans=''\n",
    "    for i in range(len(s)):\n",
    "        ans1, ans2 = get_palindrome(s,i,i), get_palindrome(s,i,i+1)\n",
    "        ans=max([ans,ans1,ans2], key=lambda x:len(x))\n",
    "    return ans"
   ]
  },
  {
   "cell_type": "markdown",
   "id": "another-delay",
   "metadata": {},
   "source": [
    "## Moral of the Story\n",
    "\n",
    "1. When it comes to palindrome, starting from middle and expand is good"
   ]
  }
 ],
 "metadata": {
  "kernelspec": {
   "display_name": "Python 3",
   "language": "python",
   "name": "python3"
  },
  "language_info": {
   "codemirror_mode": {
    "name": "ipython",
    "version": 3
   },
   "file_extension": ".py",
   "mimetype": "text/x-python",
   "name": "python",
   "nbconvert_exporter": "python",
   "pygments_lexer": "ipython3",
   "version": "3.6.7"
  }
 },
 "nbformat": 4,
 "nbformat_minor": 5
}
