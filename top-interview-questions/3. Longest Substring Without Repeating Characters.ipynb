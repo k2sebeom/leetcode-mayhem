{
 "cells": [
  {
   "cell_type": "markdown",
   "id": "undefined-serbia",
   "metadata": {},
   "source": [
    "# Longest Substring Without Repeating Characters"
   ]
  },
  {
   "cell_type": "markdown",
   "id": "photographic-establishment",
   "metadata": {},
   "source": [
    "Given a string s, find the length of the longest substring without repeating characters."
   ]
  },
  {
   "cell_type": "code",
   "execution_count": 1,
   "id": "precise-imaging",
   "metadata": {},
   "outputs": [],
   "source": [
    "def lengthOfLongestSubstring(self, s: str) -> int:\n",
    "    # Brute force\n",
    "    ## iterating through all string -> findin longest substr at each iteration O(n^2)\n",
    "    longest = \"\"\n",
    "\n",
    "    for i, c in enumerate(s):\n",
    "        seen = set()\n",
    "        # i = 0, c = 'a'\n",
    "        is_found = False\n",
    "        for j in range(i, len(s)):\n",
    "            # Check if s[i:j] fits the condition\n",
    "            target = s[i:j] # 'abc'\n",
    "            if s[j] in seen: # introducing 'a'\n",
    "                # abc\n",
    "                longest = s[i:j] if len(s[i:j]) > len(longest) else longest\n",
    "                is_found = True\n",
    "                break\n",
    "            seen.add(s[j]) # { 'a', 'b', 'c' }\n",
    "        if not is_found:\n",
    "            longest = s[i:] if len(s[i:]) > len(longest) else longest\n",
    "    return len(longest)"
   ]
  },
  {
   "cell_type": "markdown",
   "id": "coordinate-philip",
   "metadata": {},
   "source": [
    "O(n^2)"
   ]
  },
  {
   "cell_type": "code",
   "execution_count": null,
   "id": "funky-racing",
   "metadata": {},
   "outputs": [],
   "source": [
    "def lengthOfLongestSubstring(self, s: str) -> int:\n",
    "    # Sliding window\n",
    "    seen = set()\n",
    "    longest = 0\n",
    "    l = 0\n",
    "    r = 0\n",
    "    # Slide through string\n",
    "    while l < len(s) and r < len(s):\n",
    "        # Try appending s[r] on right\n",
    "        if s[r] not in seen:\n",
    "            seen.add(s[r])\n",
    "            r += 1\n",
    "            longest = max(longest, r - l)\n",
    "        else:\n",
    "            seen.remove(s[l])\n",
    "            l += 1\n",
    "    return longest"
   ]
  },
  {
   "cell_type": "markdown",
   "id": "fluid-nudist",
   "metadata": {},
   "source": [
    "O(n)"
   ]
  },
  {
   "cell_type": "markdown",
   "id": "another-delay",
   "metadata": {},
   "source": [
    "## Moral of the Story\n",
    "\n",
    "1. Sliding window technique"
   ]
  }
 ],
 "metadata": {
  "kernelspec": {
   "display_name": "Python 3",
   "language": "python",
   "name": "python3"
  },
  "language_info": {
   "codemirror_mode": {
    "name": "ipython",
    "version": 3
   },
   "file_extension": ".py",
   "mimetype": "text/x-python",
   "name": "python",
   "nbconvert_exporter": "python",
   "pygments_lexer": "ipython3",
   "version": "3.6.7"
  }
 },
 "nbformat": 4,
 "nbformat_minor": 5
}
